{
 "cells": [
  {
   "cell_type": "code",
   "execution_count": 1,
   "metadata": {
    "application/vnd.databricks.v1+cell": {
     "cellMetadata": {},
     "inputWidgets": {},
     "nuid": "802668df-ab74-4761-8110-e90155634a18",
     "showTitle": false,
     "title": ""
    }
   },
   "outputs": [],
   "source": [
    "#dbutils.fs.mkdirs(\"/FileStore/tables/landing/\")"
   ]
  },
  {
   "cell_type": "code",
   "execution_count": 2,
   "metadata": {},
   "outputs": [
    {
     "name": "stdout",
     "output_type": "stream",
     "text": [
      "Note: you may need to restart the kernel to use updated packages.\n"
     ]
    },
    {
     "name": "stderr",
     "output_type": "stream",
     "text": [
      "ERROR: Could not find a version that satisfies the requirement graphframes==3.1.3 (from versions: 0.6)\n",
      "ERROR: No matching distribution found for graphframes==3.1.3\n"
     ]
    }
   ],
   "source": [
    "pip install graphframes==3.1.3"
   ]
  },
  {
   "cell_type": "code",
   "execution_count": 3,
   "metadata": {},
   "outputs": [
    {
     "name": "stdout",
     "output_type": "stream",
     "text": [
      "GraphFrames version: 0.6\n"
     ]
    }
   ],
   "source": [
    "import pkg_resources\n",
    "\n",
    "try:\n",
    "    version = pkg_resources.get_distribution(\"graphframes\").version\n",
    "    print(\"GraphFrames version:\", version)\n",
    "except pkg_resources.DistributionNotFound:\n",
    "    print(\"GraphFrames is not installed.\")\n"
   ]
  },
  {
   "cell_type": "code",
   "execution_count": 4,
   "metadata": {
    "application/vnd.databricks.v1+cell": {
     "cellMetadata": {},
     "inputWidgets": {},
     "nuid": "5ae6ffe3-d014-4a58-9469-2862d5c1adb9",
     "showTitle": false,
     "title": ""
    }
   },
   "outputs": [],
   "source": [
    "#%fs ls dbfs:/FileStore/tables"
   ]
  },
  {
   "cell_type": "code",
   "execution_count": 5,
   "metadata": {
    "application/vnd.databricks.v1+cell": {
     "cellMetadata": {},
     "inputWidgets": {},
     "nuid": "97d0847f-d373-48cc-bbb8-aa41deb21f6c",
     "showTitle": false,
     "title": ""
    }
   },
   "outputs": [],
   "source": [
    "#dbutils.fs.mkdirs(\"/FileStore/tables/on_time_flight_performance\")"
   ]
  },
  {
   "cell_type": "code",
   "execution_count": 6,
   "metadata": {
    "application/vnd.databricks.v1+cell": {
     "cellMetadata": {},
     "inputWidgets": {},
     "nuid": "5c696e22-cb5c-4c25-af1e-88a4c2c67e2a",
     "showTitle": false,
     "title": ""
    }
   },
   "outputs": [],
   "source": [
    "from pyspark.sql.types import *\n",
    "import pandas as pd\n",
    "from pyspark.sql.functions import *\n",
    "from graphframes import *\n",
    "from pyspark.sql import SparkSession\n",
    "\n",
    "from datetime import datetime\n",
    "from pyspark.sql.functions import *\n",
    "from pyspark.sql.types import DateType\n"
   ]
  },
  {
   "cell_type": "code",
   "execution_count": 7,
   "metadata": {
    "application/vnd.databricks.v1+cell": {
     "cellMetadata": {},
     "inputWidgets": {},
     "nuid": "f0661159-ca19-47de-ae86-953c3f4e334f",
     "showTitle": false,
     "title": ""
    }
   },
   "outputs": [],
   "source": [
    "#input files\n",
    "tripdelaysFilePath = \"data/data/departuredelays.csv\"\n",
    "airportsnaFilePath = \"data/data/airport_codes_na.txt\"\n",
    "tripdelaysParquet  = \"data/data/landing/tripdelays\"\n",
    "airportsnaParquet  = \"data/data/landing/airportsna\""
   ]
  },
  {
   "cell_type": "code",
   "execution_count": 8,
   "metadata": {},
   "outputs": [],
   "source": [
    "spark = SparkSession.builder.appName(\"SparkExample\").config(\"spark.some.config.option\", \"config-value\").getOrCreate()"
   ]
  },
  {
   "cell_type": "code",
   "execution_count": 9,
   "metadata": {
    "application/vnd.databricks.v1+cell": {
     "cellMetadata": {},
     "inputWidgets": {},
     "nuid": "330c2fbf-967d-4ac7-b2b2-d6a32520678c",
     "showTitle": false,
     "title": ""
    }
   },
   "outputs": [
    {
     "data": {
      "text/plain": [
       "DataFrame[value: string]"
      ]
     },
     "metadata": {},
     "output_type": "display_data"
    }
   ],
   "source": [
    "#display(spark.read.csv(tripdelaysFilePath))\n",
    "display(spark.read.option(\"delimiter\", \"\\t\").text(airportsnaFilePath))"
   ]
  },
  {
   "cell_type": "code",
   "execution_count": 10,
   "metadata": {
    "application/vnd.databricks.v1+cell": {
     "cellMetadata": {},
     "inputWidgets": {},
     "nuid": "0fd10718-7a2c-473d-b5f6-7ac9f231b2b4",
     "showTitle": false,
     "title": ""
    }
   },
   "outputs": [],
   "source": [
    "df = spark.read.option(\"header\", \"true\").option(\"inferschema\", \"true\").option(\"delimiter\",\"\\t\").csv(airportsnaFilePath)\n",
    "     \n",
    "spark.read.option(\"header\",\"true\").option(\"inferschema\",\"true\").option(\"delimeter\",\"\\t\").csv(tripdelaysFilePath).write.parquet(tripdelaysParquet,mode = 'overwrite')"
   ]
  },
  {
   "cell_type": "code",
   "execution_count": 11,
   "metadata": {
    "application/vnd.databricks.v1+cell": {
     "cellMetadata": {},
     "inputWidgets": {},
     "nuid": "0fd10718-7a2c-473d-b5f6-7ac9f231b2b4",
     "showTitle": false,
     "title": ""
    }
   },
   "outputs": [
    {
     "name": "stdout",
     "output_type": "stream",
     "text": [
      "+-----------+-----+-------+----+\n",
      "|       City|State|Country|IATA|\n",
      "+-----------+-----+-------+----+\n",
      "| Abbotsford|   BC| Canada| YXX|\n",
      "|   Aberdeen|   SD|    USA| ABR|\n",
      "|    Abilene|   TX|    USA| ABI|\n",
      "|      Akron|   OH|    USA| CAK|\n",
      "|    Alamosa|   CO|    USA| ALS|\n",
      "|     Albany|   GA|    USA| ABY|\n",
      "|     Albany|   NY|    USA| ALB|\n",
      "|Albuquerque|   NM|    USA| ABQ|\n",
      "| Alexandria|   LA|    USA| AEX|\n",
      "|  Allentown|   PA|    USA| ABE|\n",
      "|   Alliance|   NE|    USA| AIA|\n",
      "|     Alpena|   MI|    USA| APN|\n",
      "|    Altoona|   PA|    USA| AOO|\n",
      "|   Amarillo|   TX|    USA| AMA|\n",
      "|Anahim Lake|   BC| Canada| YAA|\n",
      "|  Anchorage|   AK|    USA| ANC|\n",
      "|   Appleton|   WI|    USA| ATW|\n",
      "|     Arviat|  NWT| Canada| YEK|\n",
      "|  Asheville|   NC|    USA| AVL|\n",
      "|      Aspen|   CO|    USA| ASE|\n",
      "+-----------+-----+-------+----+\n",
      "only showing top 20 rows\n",
      "\n"
     ]
    }
   ],
   "source": [
    "df.show()"
   ]
  },
  {
   "cell_type": "code",
   "execution_count": null,
   "metadata": {
    "application/vnd.databricks.v1+cell": {
     "cellMetadata": {},
     "inputWidgets": {},
     "nuid": "0fd10718-7a2c-473d-b5f6-7ac9f231b2b4",
     "showTitle": false,
     "title": ""
    }
   },
   "outputs": [],
   "source": []
  },
  {
   "cell_type": "code",
   "execution_count": null,
   "metadata": {},
   "outputs": [],
   "source": []
  },
  {
   "cell_type": "code",
   "execution_count": null,
   "metadata": {},
   "outputs": [],
   "source": []
  },
  {
   "cell_type": "code",
   "execution_count": 12,
   "metadata": {
    "application/vnd.databricks.v1+cell": {
     "cellMetadata": {},
     "inputWidgets": {},
     "nuid": "0fd10718-7a2c-473d-b5f6-7ac9f231b2b4",
     "showTitle": false,
     "title": ""
    }
   },
   "outputs": [],
   "source": [
    "airporstna = spark.read.parquet(airportsnaParquet)\n",
    "departuredelays = spark.read.parquet(tripdelaysParquet)\n"
   ]
  },
  {
   "cell_type": "code",
   "execution_count": null,
   "metadata": {},
   "outputs": [],
   "source": []
  },
  {
   "cell_type": "code",
   "execution_count": 13,
   "metadata": {
    "application/vnd.databricks.v1+cell": {
     "cellMetadata": {},
     "inputWidgets": {},
     "nuid": "0fd10718-7a2c-473d-b5f6-7ac9f231b2b4",
     "showTitle": false,
     "title": ""
    }
   },
   "outputs": [],
   "source": [
    "airporstna.createOrReplaceTempView(\"airporstna1\")\n",
    "departuredelays.createOrReplaceTempView(\"departuredelays1\")"
   ]
  },
  {
   "cell_type": "code",
   "execution_count": 14,
   "metadata": {},
   "outputs": [
    {
     "name": "stdout",
     "output_type": "stream",
     "text": [
      "+-----------+-----+-------+----+\n",
      "|       City|State|Country|IATA|\n",
      "+-----------+-----+-------+----+\n",
      "| Abbotsford|   BC| Canada| YXX|\n",
      "|   Aberdeen|   SD|    USA| ABR|\n",
      "|    Abilene|   TX|    USA| ABI|\n",
      "|      Akron|   OH|    USA| CAK|\n",
      "|    Alamosa|   CO|    USA| ALS|\n",
      "|     Albany|   GA|    USA| ABY|\n",
      "|     Albany|   NY|    USA| ALB|\n",
      "|Albuquerque|   NM|    USA| ABQ|\n",
      "| Alexandria|   LA|    USA| AEX|\n",
      "|  Allentown|   PA|    USA| ABE|\n",
      "|   Alliance|   NE|    USA| AIA|\n",
      "|     Alpena|   MI|    USA| APN|\n",
      "|    Altoona|   PA|    USA| AOO|\n",
      "|   Amarillo|   TX|    USA| AMA|\n",
      "|Anahim Lake|   BC| Canada| YAA|\n",
      "|  Anchorage|   AK|    USA| ANC|\n",
      "|   Appleton|   WI|    USA| ATW|\n",
      "|     Arviat|  NWT| Canada| YEK|\n",
      "|  Asheville|   NC|    USA| AVL|\n",
      "|      Aspen|   CO|    USA| ASE|\n",
      "+-----------+-----+-------+----+\n",
      "only showing top 20 rows\n",
      "\n"
     ]
    }
   ],
   "source": [
    "spark.sql(\"select * from airporstna1\").show()"
   ]
  },
  {
   "cell_type": "code",
   "execution_count": 15,
   "metadata": {
    "application/vnd.databricks.v1+cell": {
     "cellMetadata": {},
     "inputWidgets": {},
     "nuid": "0fd10718-7a2c-473d-b5f6-7ac9f231b2b4",
     "showTitle": false,
     "title": ""
    }
   },
   "outputs": [],
   "source": [
    "Iata = spark.sql(\"select distinct IATA from (select distinct(origin) as IATA from departuredelays1 union all select distinct(destination) as IATA from departuredelays1) a\")\n",
    "Iata.createOrReplaceTempView(\"Iata\")"
   ]
  },
  {
   "cell_type": "code",
   "execution_count": null,
   "metadata": {},
   "outputs": [],
   "source": []
  },
  {
   "cell_type": "code",
   "execution_count": 16,
   "metadata": {
    "application/vnd.databricks.v1+cell": {
     "cellMetadata": {},
     "inputWidgets": {},
     "nuid": "0fd10718-7a2c-473d-b5f6-7ac9f231b2b4",
     "showTitle": false,
     "title": ""
    }
   },
   "outputs": [],
   "source": [
    "airports = airporstna.join(Iata,on = \"IATA\",how=\"inner\").select(\"City\",\"State\",\"Country\",\"IATA\")\n"
   ]
  },
  {
   "cell_type": "code",
   "execution_count": 17,
   "metadata": {},
   "outputs": [
    {
     "name": "stdout",
     "output_type": "stream",
     "text": [
      "+-------------------+-----+-------+----+\n",
      "|               City|State|Country|IATA|\n",
      "+-------------------+-----+-------+----+\n",
      "|International Falls|   MN|    USA| INL|\n",
      "|        New Orleans|   LA|    USA| MSY|\n",
      "|            Spokane|   WA|    USA| GEG|\n",
      "|      Orange County|   CA|    USA| SNA|\n",
      "|            Burbank|   CA|    USA| BUR|\n",
      "|          Green Bay|   WI|    USA| GRB|\n",
      "|        Great Falls|   MT|    USA| GTF|\n",
      "|        Idaho Falls|   ID|    USA| IDA|\n",
      "|       Grand Rapids|   MI|    USA| GRR|\n",
      "|             Joplin|   MO|    USA| JLN|\n",
      "|             Eugene|   OR|    USA| EUG|\n",
      "|         Providence|   RI|    USA| PVD|\n",
      "|         Greensboro|   NC|    USA| GSO|\n",
      "|       Myrtle Beach|   SC|    USA| MYR|\n",
      "|            Oakland|   CA|    USA| OAK|\n",
      "|              Butte|   MT|    USA| BTM|\n",
      "|               Cody|   WY|    USA| COD|\n",
      "|              Fargo|   ND|    USA| FAR|\n",
      "|         Fort Smith|   AR|    USA| FSM|\n",
      "|          Marquette|   MI|    USA| MQT|\n",
      "+-------------------+-----+-------+----+\n",
      "only showing top 20 rows\n",
      "\n"
     ]
    }
   ],
   "source": [
    "airports.show()\n",
    "airports.createOrReplaceTempView(\"airports_df\")"
   ]
  },
  {
   "cell_type": "code",
   "execution_count": null,
   "metadata": {},
   "outputs": [],
   "source": []
  },
  {
   "cell_type": "code",
   "execution_count": 18,
   "metadata": {},
   "outputs": [
    {
     "name": "stdout",
     "output_type": "stream",
     "text": [
      "+-------+------------------+-----+--------+---+---+-----------+-------------------+---------+---------+\n",
      "| tripid|        local_date|delay|distance|src|dst|   src_city|           dst_city|src_state|dst_state|\n",
      "+-------+------------------+-----+--------+---+---+-----------+-------------------+---------+---------+\n",
      "|3311115|2014-33-11 11:5:00|   -8|     221|MSP|INL|Minneapolis|International Falls|       MN|       MN|\n",
      "|3302000|2014-33-02 00:0:00|  -10|     221|MSP|INL|Minneapolis|International Falls|       MN|       MN|\n",
      "|3292000|2014-32-92 00:0:00|  -19|     221|MSP|INL|Minneapolis|International Falls|       MN|       MN|\n",
      "|3281115|2014-32-81 11:5:00|   -7|     221|MSP|INL|Minneapolis|International Falls|       MN|       MN|\n",
      "|3271115|2014-32-71 11:5:00|    9|     221|MSP|INL|Minneapolis|International Falls|       MN|       MN|\n",
      "|3261115|2014-32-61 11:5:00|   -5|     221|MSP|INL|Minneapolis|International Falls|       MN|       MN|\n",
      "|3251115|2014-32-51 11:5:00|   -4|     221|MSP|INL|Minneapolis|International Falls|       MN|       MN|\n",
      "|3241115|2014-32-41 11:5:00|   -9|     221|MSP|INL|Minneapolis|International Falls|       MN|       MN|\n",
      "|3232000|2014-32-32 00:0:00|   -9|     221|MSP|INL|Minneapolis|International Falls|       MN|       MN|\n",
      "|3222000|2014-32-22 00:0:00|  -10|     221|MSP|INL|Minneapolis|International Falls|       MN|       MN|\n",
      "|3211115|2014-32-11 11:5:00|    0|     221|MSP|INL|Minneapolis|International Falls|       MN|       MN|\n",
      "|3201115|2014-32-01 11:5:00|   -6|     221|MSP|INL|Minneapolis|International Falls|       MN|       MN|\n",
      "|3191115|2014-31-91 11:5:00|   -5|     221|MSP|INL|Minneapolis|International Falls|       MN|       MN|\n",
      "|3181115|2014-31-81 11:5:00|    2|     221|MSP|INL|Minneapolis|International Falls|       MN|       MN|\n",
      "|3171115|2014-31-71 11:5:00|   25|     221|MSP|INL|Minneapolis|International Falls|       MN|       MN|\n",
      "|3162000|2014-31-62 00:0:00|  -10|     221|MSP|INL|Minneapolis|International Falls|       MN|       MN|\n",
      "|3152000|2014-31-52 00:0:00|  -11|     221|MSP|INL|Minneapolis|International Falls|       MN|       MN|\n",
      "|3141115|2014-31-41 11:5:00|   -5|     221|MSP|INL|Minneapolis|International Falls|       MN|       MN|\n",
      "|3131115|2014-31-31 11:5:00|   -8|     221|MSP|INL|Minneapolis|International Falls|       MN|       MN|\n",
      "|3121115|2014-31-21 11:5:00|   -6|     221|MSP|INL|Minneapolis|International Falls|       MN|       MN|\n",
      "+-------+------------------+-----+--------+---+---+-----------+-------------------+---------+---------+\n",
      "only showing top 20 rows\n",
      "\n"
     ]
    }
   ],
   "source": [
    "departuredelays_geo = spark.sql(\"\"\"\n",
    "    select\n",
    "        cast(f.date as int) as tripid,\n",
    "        concat(\"2014\", concat(\"-\", concat(concat(substr(cast(f.date as string),1,2),\"-\"),\n",
    "        concat(substr(cast(f.date as string),3,2),\n",
    "        concat(\" \", concat(substr(cast(f.date as string),5,2),\n",
    "        concat(\":\", concat(substr(cast(f.date as string),7,2),\":00\")))))))) as local_date,\n",
    "        cast(f.delay as int),\n",
    "        cast(f.distance as int),\n",
    "        f.origin as src,\n",
    "        f.destination as dst,\n",
    "        o.city as src_city,\n",
    "        d.city as dst_city,\n",
    "        o.state as src_state,\n",
    "        d.state as dst_state\n",
    "    from departuredelays1 f\n",
    "    join airports_df o on f.origin = o.iata\n",
    "    inner join airports_df d on f.destination = d.iata\n",
    "\"\"\")\n",
    "departuredelays_geo.show()\n"
   ]
  },
  {
   "cell_type": "code",
   "execution_count": null,
   "metadata": {
    "application/vnd.databricks.v1+cell": {
     "cellMetadata": {},
     "inputWidgets": {},
     "nuid": "8dcb79f5-6ea6-4a9b-812c-17af8b840198",
     "showTitle": false,
     "title": ""
    }
   },
   "outputs": [],
   "source": []
  },
  {
   "cell_type": "code",
   "execution_count": 19,
   "metadata": {},
   "outputs": [],
   "source": [
    "tripvertices = airports.withColumnRenamed(\"IATA\",\"id\").distinct()\n",
    "tripEdges = departuredelays_geo.select(\"tripid\",\"delay\",\"src\",\"dst\",\"src_city\",\"dst_city\")"
   ]
  },
  {
   "cell_type": "code",
   "execution_count": 20,
   "metadata": {},
   "outputs": [
    {
     "name": "stdout",
     "output_type": "stream",
     "text": [
      "+-------+-----+---+---+-----------+-------------------+\n",
      "| tripid|delay|src|dst|   src_city|           dst_city|\n",
      "+-------+-----+---+---+-----------+-------------------+\n",
      "|3311115|   -8|MSP|INL|Minneapolis|International Falls|\n",
      "|3302000|  -10|MSP|INL|Minneapolis|International Falls|\n",
      "|3292000|  -19|MSP|INL|Minneapolis|International Falls|\n",
      "|3281115|   -7|MSP|INL|Minneapolis|International Falls|\n",
      "|3271115|    9|MSP|INL|Minneapolis|International Falls|\n",
      "|3261115|   -5|MSP|INL|Minneapolis|International Falls|\n",
      "|3251115|   -4|MSP|INL|Minneapolis|International Falls|\n",
      "|3241115|   -9|MSP|INL|Minneapolis|International Falls|\n",
      "|3232000|   -9|MSP|INL|Minneapolis|International Falls|\n",
      "|3222000|  -10|MSP|INL|Minneapolis|International Falls|\n",
      "|3211115|    0|MSP|INL|Minneapolis|International Falls|\n",
      "|3201115|   -6|MSP|INL|Minneapolis|International Falls|\n",
      "|3191115|   -5|MSP|INL|Minneapolis|International Falls|\n",
      "|3181115|    2|MSP|INL|Minneapolis|International Falls|\n",
      "|3171115|   25|MSP|INL|Minneapolis|International Falls|\n",
      "|3162000|  -10|MSP|INL|Minneapolis|International Falls|\n",
      "|3152000|  -11|MSP|INL|Minneapolis|International Falls|\n",
      "|3141115|   -5|MSP|INL|Minneapolis|International Falls|\n",
      "|3131115|   -8|MSP|INL|Minneapolis|International Falls|\n",
      "|3121115|   -6|MSP|INL|Minneapolis|International Falls|\n",
      "+-------+-----+---+---+-----------+-------------------+\n",
      "only showing top 20 rows\n",
      "\n"
     ]
    }
   ],
   "source": [
    "tripEdges.show()"
   ]
  },
  {
   "cell_type": "code",
   "execution_count": null,
   "metadata": {},
   "outputs": [],
   "source": []
  },
  {
   "cell_type": "code",
   "execution_count": 21,
   "metadata": {},
   "outputs": [],
   "source": [
    "from graphframes import GraphFrame"
   ]
  },
  {
   "cell_type": "code",
   "execution_count": 2,
   "metadata": {},
   "outputs": [
    {
     "ename": "NameError",
     "evalue": "name 'GraphFrame' is not defined",
     "output_type": "error",
     "traceback": [
      "\u001b[1;31m---------------------------------------------------------------------------\u001b[0m",
      "\u001b[1;31mNameError\u001b[0m                                 Traceback (most recent call last)",
      "\u001b[1;32m~\\AppData\\Local\\Temp\\ipykernel_13940\\1311678363.py\u001b[0m in \u001b[0;36m<module>\u001b[1;34m\u001b[0m\n\u001b[1;32m----> 1\u001b[1;33m \u001b[0mtripGraph\u001b[0m \u001b[1;33m=\u001b[0m \u001b[0mGraphFrame\u001b[0m\u001b[1;33m(\u001b[0m\u001b[0mtripvertices\u001b[0m\u001b[1;33m,\u001b[0m \u001b[0mtripEdges\u001b[0m\u001b[1;33m)\u001b[0m\u001b[1;33m\u001b[0m\u001b[1;33m\u001b[0m\u001b[0m\n\u001b[0m",
      "\u001b[1;31mNameError\u001b[0m: name 'GraphFrame' is not defined"
     ]
    }
   ],
   "source": [
    "tripGraph = GraphFrame(tripvertices, tripEdges)"
   ]
  },
  {
   "cell_type": "code",
   "execution_count": null,
   "metadata": {},
   "outputs": [],
   "source": []
  },
  {
   "cell_type": "code",
   "execution_count": null,
   "metadata": {},
   "outputs": [],
   "source": []
  },
  {
   "cell_type": "code",
   "execution_count": 23,
   "metadata": {
    "application/vnd.databricks.v1+cell": {
     "cellMetadata": {},
     "inputWidgets": {},
     "nuid": "874fa14a-c0e6-4bb3-81e0-c4b9e6fade8d",
     "showTitle": true,
     "title": "Determine the number of airports and trips"
    }
   },
   "outputs": [
    {
     "name": "stdout",
     "output_type": "stream",
     "text": [
      "Airports: 279\n",
      "Trips: 1361141\n"
     ]
    }
   ],
   "source": [
    "print(f\"Airports: {tripGraph.vertices.count()}\")\n",
    "print(f\"Trips: {tripGraph.edges.count()}\")"
   ]
  },
  {
   "cell_type": "code",
   "execution_count": 24,
   "metadata": {
    "application/vnd.databricks.v1+cell": {
     "cellMetadata": {},
     "inputWidgets": {},
     "nuid": "0054d0d8-4503-4bf3-ba95-1cb973d1b389",
     "showTitle": true,
     "title": "Determining the longest delay in this dataset"
    }
   },
   "outputs": [],
   "source": [
    "longestDelay = tripGraph.edges.groupBy().max(\"delay\")"
   ]
  },
  {
   "cell_type": "code",
   "execution_count": 34,
   "metadata": {
    "application/vnd.databricks.v1+cell": {
     "cellMetadata": {},
     "inputWidgets": {},
     "nuid": "0054d0d8-4503-4bf3-ba95-1cb973d1b389",
     "showTitle": true,
     "title": "Determining the longest delay in this dataset"
    }
   },
   "outputs": [
    {
     "name": "stdout",
     "output_type": "stream",
     "text": [
      "+----------+\n",
      "|max(delay)|\n",
      "+----------+\n",
      "|      1642|\n",
      "+----------+\n",
      "\n"
     ]
    }
   ],
   "source": [
    "longestDelay.show()"
   ]
  },
  {
   "cell_type": "code",
   "execution_count": 24,
   "metadata": {
    "application/vnd.databricks.v1+cell": {
     "cellMetadata": {},
     "inputWidgets": {},
     "nuid": "0054d0d8-4503-4bf3-ba95-1cb973d1b389",
     "showTitle": true,
     "title": "Determining the longest delay in this dataset"
    }
   },
   "outputs": [
    {
     "data": {
      "text/plain": [
       "DataFrame[max(delay): int]"
      ]
     },
     "metadata": {},
     "output_type": "display_data"
    }
   ],
   "source": []
  },
  {
   "cell_type": "code",
   "execution_count": 25,
   "metadata": {
    "application/vnd.databricks.v1+cell": {
     "cellMetadata": {},
     "inputWidgets": {},
     "nuid": "a7b75dda-40ec-4f23-b7b9-b27258bd338c",
     "showTitle": true,
     "title": "Determining the number of delayed vs. on-time / early flights"
    }
   },
   "outputs": [
    {
     "name": "stdout",
     "output_type": "stream",
     "text": [
      "On-time / Early Flights: 780469\n",
      "Delayed Flights: 580672\n"
     ]
    }
   ],
   "source": [
    "print(f'On-time / Early Flights: {tripGraph.edges.filter(\"delay <= 0\").count()}')\n",
    "print(f'Delayed Flights: {tripGraph.edges.filter(\"delay > 0\").count()}')"
   ]
  },
  {
   "cell_type": "code",
   "execution_count": 26,
   "metadata": {
    "application/vnd.databricks.v1+cell": {
     "cellMetadata": {},
     "inputWidgets": {},
     "nuid": "8dfe709e-c3a7-4b0e-aa84-7d76af6012a4",
     "showTitle": true,
     "title": "What flights departing SLC are most likely to have significant delays"
    }
   },
   "outputs": [],
   "source": [
    "# Delay can be <= 0 i.e. the flight left on time or early\n",
    "sfoDelayedTrips = tripGraph.edges.\\\n",
    "  filter(\"src = 'SFO' and delay > 0\").\\\n",
    "  groupBy(\"src\", \"dst\").\\\n",
    "  avg(\"delay\").\\\n",
    "  sort(desc(\"avg(delay)\"))"
   ]
  },
  {
   "cell_type": "code",
   "execution_count": 27,
   "metadata": {
    "application/vnd.databricks.v1+cell": {
     "cellMetadata": {},
     "inputWidgets": {},
     "nuid": "9b68bd13-d97e-4e54-ae44-2857b7605c01",
     "showTitle": false,
     "title": ""
    }
   },
   "outputs": [
    {
     "data": {
      "text/plain": [
       "DataFrame[src: string, dst: string, avg(delay): double]"
      ]
     },
     "metadata": {},
     "output_type": "display_data"
    }
   ],
   "source": [
    "display(sfoDelayedTrips)"
   ]
  },
  {
   "cell_type": "code",
   "execution_count": 28,
   "metadata": {
    "application/vnd.databricks.v1+cell": {
     "cellMetadata": {},
     "inputWidgets": {},
     "nuid": "c4c37dfa-9bd7-4ae9-827f-a69a99990d5a",
     "showTitle": true,
     "title": "What destinations tend to have delays"
    }
   },
   "outputs": [
    {
     "data": {
      "text/plain": [
       "DataFrame[tripid: int, delay: int, src: string, dst: string, src_city: string, dst_city: string]"
      ]
     },
     "metadata": {},
     "output_type": "display_data"
    }
   ],
   "source": [
    "# After displaying tripDelays, use Plot Options to set `state_dst` as a Key.\n",
    "tripDelays = tripGraph.edges.filter(\"delay > 0\")\n",
    "display(tripDelays)"
   ]
  },
  {
   "cell_type": "code",
   "execution_count": 29,
   "metadata": {
    "application/vnd.databricks.v1+cell": {
     "cellMetadata": {},
     "inputWidgets": {},
     "nuid": "e9dac463-4a7e-47c2-8e0c-7927cd77bc87",
     "showTitle": false,
     "title": ""
    }
   },
   "outputs": [],
   "source": [
    "#(display(tripEdges))"
   ]
  },
  {
   "cell_type": "code",
   "execution_count": 30,
   "metadata": {
    "application/vnd.databricks.v1+cell": {
     "cellMetadata": {},
     "inputWidgets": {},
     "nuid": "80d2e97b-8cfc-4eab-9c61-88727e67914c",
     "showTitle": true,
     "title": "What destinations tend to have significant delays departing from PHL"
    }
   },
   "outputs": [
    {
     "data": {
      "text/plain": [
       "DataFrame[tripid: int, delay: int, src: string, dst: string, src_city: string, dst_city: string]"
      ]
     },
     "metadata": {},
     "output_type": "display_data"
    }
   ],
   "source": [
    "# States with the longest cumulative delays (with individual delays > 100 minutes) (origin: Philadelphia)\n",
    "#tripEdges.createOrReplaceTempView(\"tripgraph\")\n",
    "display(tripGraph.edges.filter(\"src ='PHL' and delay > 100\"))"
   ]
  },
  {
   "cell_type": "markdown",
   "metadata": {
    "application/vnd.databricks.v1+cell": {
     "cellMetadata": {},
     "inputWidgets": {},
     "nuid": "658f2dbf-7e13-41cb-ab1a-9ef52cbed02c",
     "showTitle": false,
     "title": ""
    },
    "tags": []
   },
   "source": [
    "# Vertex Degrees\n",
    "- <code>inDegrees</code>: Incoming connections to the airport\n",
    "- <code>outDegrees</code>: Outgoing connections from the airport\n",
    "- <code>degrees</code>: Total connections to and from the airport\n",
    "\n",
    "Reviewing the various properties of the property graph to understand the incoming and outgoing connections between airports.\n",
    "\n",
    "display(tripGraph.degrees.sort(desc(\"degree\")).limit(20))"
   ]
  },
  {
   "cell_type": "markdown",
   "metadata": {
    "application/vnd.databricks.v1+cell": {
     "cellMetadata": {},
     "inputWidgets": {},
     "nuid": "907f1bb7-dbf0-4ca3-ba22-8434f1c90a4e",
     "showTitle": false,
     "title": ""
    }
   },
   "source": [
    "#City / Flight Relationships through Motif Finding\n",
    "To more easily understand the complex relationship of city airports and their flights with each other, we can use motifs to find patterns of airports (i.e. vertices) connected by flights (i.e. edges). The result is a DataFrame in which the column names are given by the motif keys."
   ]
  },
  {
   "cell_type": "code",
   "execution_count": 1,
   "metadata": {
    "application/vnd.databricks.v1+cell": {
     "cellMetadata": {},
     "inputWidgets": {},
     "nuid": "0e2c57e5-3ebe-46d0-b2bc-a224e8e66aa3",
     "showTitle": true,
     "title": "What delays might we blame on SFO"
    }
   },
   "outputs": [
    {
     "ename": "NameError",
     "evalue": "name 'tripGraph' is not defined",
     "output_type": "error",
     "traceback": [
      "\u001b[1;31m---------------------------------------------------------------------------\u001b[0m",
      "\u001b[1;31mNameError\u001b[0m                                 Traceback (most recent call last)",
      "\u001b[1;32m~\\AppData\\Local\\Temp\\ipykernel_13940\\2868876546.py\u001b[0m in \u001b[0;36m<module>\u001b[1;34m\u001b[0m\n\u001b[0;32m      8\u001b[0m \u001b[0mNote\u001b[0m\u001b[1;33m:\u001b[0m \u001b[0mIn\u001b[0m \u001b[0mreality\u001b[0m\u001b[1;33m,\u001b[0m \u001b[0mwe\u001b[0m \u001b[0mwould\u001b[0m \u001b[0mneed\u001b[0m \u001b[0mto\u001b[0m \u001b[0mbe\u001b[0m \u001b[0mmore\u001b[0m \u001b[0mcareful\u001b[0m \u001b[0mto\u001b[0m \u001b[0mlink\u001b[0m \u001b[0mtrips\u001b[0m \u001b[0mab\u001b[0m \u001b[1;32mand\u001b[0m \u001b[0mbc\u001b[0m\u001b[1;33m.\u001b[0m\u001b[1;33m\u001b[0m\u001b[1;33m\u001b[0m\u001b[0m\n\u001b[0;32m      9\u001b[0m '''\n\u001b[1;32m---> 10\u001b[1;33m \u001b[0mmotifs\u001b[0m \u001b[1;33m=\u001b[0m \u001b[0mtripGraph\u001b[0m\u001b[1;33m.\u001b[0m\u001b[0;31m\\\u001b[0m\u001b[1;33m\u001b[0m\u001b[1;33m\u001b[0m\u001b[0m\n\u001b[0m\u001b[0;32m     11\u001b[0m   \u001b[0mfind\u001b[0m\u001b[1;33m(\u001b[0m\u001b[1;34m\"(a)-[ab]->(b); (b)-[bc]->(c)\"\u001b[0m\u001b[1;33m)\u001b[0m\u001b[1;33m.\u001b[0m\u001b[0;31m\\\u001b[0m\u001b[1;33m\u001b[0m\u001b[1;33m\u001b[0m\u001b[0m\n\u001b[0;32m     12\u001b[0m   \u001b[0mfilter\u001b[0m\u001b[1;33m(\u001b[0m\u001b[1;34m\"(b.id = 'SFO') and (ab.delay > 500 or bc.delay > 500) and bc.tripid > ab.tripid and bc.tripid < ab.tripid + 10000\"\u001b[0m\u001b[1;33m)\u001b[0m\u001b[1;33m\u001b[0m\u001b[1;33m\u001b[0m\u001b[0m\n",
      "\u001b[1;31mNameError\u001b[0m: name 'tripGraph' is not defined"
     ]
    }
   ],
   "source": [
    "'''\n",
    "Using tripGraphPrime to more easily display \n",
    "- The associated edge (ab, bc) relationships \n",
    "- With the different the city / airports (a, b, c) where SFO is the connecting city (b)\n",
    "- Ensuring that flight ab (i.e. the flight to SFO) occured before flight bc (i.e. flight leaving SFO)\n",
    "- Note, TripID was generated based on time in the format of MMDDHHMM converted to int\n",
    "- Therefore bc.tripid < ab.tripid + 10000 means the second flight (bc) occured within approx a day of the first flight (ab)\n",
    "Note: In reality, we would need to be more careful to link trips ab and bc.\n",
    "'''\n",
    "motifs = tripGraph.\\\n",
    "  find(\"(a)-[ab]->(b); (b)-[bc]->(c)\").\\\n",
    "  filter(\"(b.id = 'SFO') and (ab.delay > 500 or bc.delay > 500) and bc.tripid > ab.tripid and bc.tripid < ab.tripid + 10000\")\n",
    "\n",
    "display(motifs)"
   ]
  },
  {
   "cell_type": "markdown",
   "metadata": {
    "application/vnd.databricks.v1+cell": {
     "cellMetadata": {},
     "inputWidgets": {},
     "nuid": "6edd6ac0-413b-4339-a778-acb7e7844597",
     "showTitle": false,
     "title": ""
    }
   },
   "source": [
    "#Determining Airport Ranking using PageRank\n",
    "\n",
    "There are a large number of flights and connections through these various airports included in this Departure Delay Dataset. Using the pageRank algorithm, Spark iteratively traverses the graph and determines a rough estimate of how important the airport is."
   ]
  },
  {
   "cell_type": "code",
   "execution_count": null,
   "metadata": {
    "application/vnd.databricks.v1+cell": {
     "cellMetadata": {},
     "inputWidgets": {},
     "nuid": "0289b483-85b0-428e-9d7b-99145d66640c",
     "showTitle": false,
     "title": ""
    }
   },
   "outputs": [],
   "source": [
    "ranks = tripGraph.pageRank(resetProbability=0.15, maxIter=5)"
   ]
  },
  {
   "cell_type": "code",
   "execution_count": null,
   "metadata": {
    "application/vnd.databricks.v1+cell": {
     "cellMetadata": {},
     "inputWidgets": {},
     "nuid": "678316e8-5919-43ef-bd4a-0ed70d11e8f0",
     "showTitle": false,
     "title": ""
    }
   },
   "outputs": [],
   "source": [
    "display(ranks.vertices.orderBy(desc(\"pagerank\")).limit(20))"
   ]
  },
  {
   "cell_type": "markdown",
   "metadata": {
    "application/vnd.databricks.v1+cell": {
     "cellMetadata": {},
     "inputWidgets": {},
     "nuid": "8fe41b2e-4a8a-48da-ad26-e62bc8c79fb2",
     "showTitle": false,
     "title": ""
    }
   },
   "source": [
    "#Most popular flights (single city hops)\n",
    "Using the tripGraph, we can quickly determine what are the most popular single city hop flights"
   ]
  },
  {
   "cell_type": "code",
   "execution_count": null,
   "metadata": {
    "application/vnd.databricks.v1+cell": {
     "cellMetadata": {},
     "inputWidgets": {},
     "nuid": "e5c666d9-1b64-46af-85ba-362acf5b8702",
     "showTitle": false,
     "title": ""
    }
   },
   "outputs": [],
   "source": [
    "topTrips = tripGraph.edges.groupBy(\"src\", \"dst\").agg(count(\"delay\").alias(\"trips\"))"
   ]
  },
  {
   "cell_type": "code",
   "execution_count": null,
   "metadata": {
    "application/vnd.databricks.v1+cell": {
     "cellMetadata": {},
     "inputWidgets": {},
     "nuid": "16b1e2af-2606-431f-a7fb-2b6a0a118ca4",
     "showTitle": false,
     "title": ""
    }
   },
   "outputs": [],
   "source": [
    "display(topTrips.orderBy(desc(\"trips\")).limit(20))"
   ]
  },
  {
   "cell_type": "markdown",
   "metadata": {
    "application/vnd.databricks.v1+cell": {
     "cellMetadata": {},
     "inputWidgets": {},
     "nuid": "04a6f278-cc66-4a20-974b-e72fbcfab700",
     "showTitle": false,
     "title": ""
    }
   },
   "source": [
    "#Top Transfer Cities\n",
    "Many airports are used as transfer points instead of the final Destination. An easy way to calculate this is by calculating the ratio of inDegree (the number of flights to the airport) / outDegree (the number of flights leaving the airport). Values close to 1 may indicate many transfers, whereas values < 1 indicate many outgoing flights and > 1 indicate many incoming flights."
   ]
  },
  {
   "cell_type": "code",
   "execution_count": null,
   "metadata": {
    "application/vnd.databricks.v1+cell": {
     "cellMetadata": {},
     "inputWidgets": {},
     "nuid": "94aa6ba0-b641-49c2-959f-5da0e9375a08",
     "showTitle": false,
     "title": ""
    }
   },
   "outputs": [],
   "source": [
    "# Calculate the inDeg (flights into the airport) and outDeg (flights leaving the airport)\n",
    "inDeg = tripGraph.inDegrees\n",
    "outDeg = tripGraph.outDegrees\n",
    "\n",
    "# Calculate the degreeRatio (inDeg/outDeg), perform inner join on \"id\" column\n",
    "degreeRatio = inDeg.join(outDeg, inDeg.id == outDeg.id).drop(outDeg.id).selectExpr(\"id\", \"double(inDegree)/double(outDegree) as degreeRatio\").cache()\n",
    "\n",
    "# Join back to the `airports` DataFrame (instead of registering temp table as above)\n",
    "nonTransferAirports = degreeRatio.join(airports, degreeRatio.id == airports.IATA).selectExpr(\"id\", \"city\", \"degreeRatio\").filter(\"degreeRatio < 0.9 or degreeRatio > 1.1\")\n",
    "\n",
    "# List out the city airports which have abnormal degree ratios\n",
    "display(nonTransferAirports)"
   ]
  },
  {
   "cell_type": "code",
   "execution_count": null,
   "metadata": {
    "application/vnd.databricks.v1+cell": {
     "cellMetadata": {},
     "inputWidgets": {},
     "nuid": "634fb8f1-66d4-4eb8-aef8-1f3863fd6cb6",
     "showTitle": false,
     "title": ""
    }
   },
   "outputs": [],
   "source": [
    "# Join back to the `airports` DataFrame (instead of registering temp table as above)\n",
    "transferAirports = degreeRatio.join(airports, degreeRatio.id == airports.IATA).selectExpr(\"id\", \"city\", \"degreeRatio\").filter(\"degreeRatio between 0.9 and 1.1\")\n",
    "  \n",
    "# List out the top 10 transfer city airports\n",
    "display(transferAirports.orderBy(\"degreeRatio\").limit(10))"
   ]
  },
  {
   "cell_type": "markdown",
   "metadata": {
    "application/vnd.databricks.v1+cell": {
     "cellMetadata": {},
     "inputWidgets": {},
     "nuid": "d63c9bb0-6fb2-46de-b8c4-48f853648041",
     "showTitle": false,
     "title": ""
    }
   },
   "source": [
    "#Breadth First Search\n",
    "Breadth-first search (BFS) is designed to traverse the graph to quickly find the desired vertices (i.e. airports) and edges (i.e flights). Let's try to find the shortest number of connections between cities based on the dataset."
   ]
  },
  {
   "cell_type": "code",
   "execution_count": null,
   "metadata": {
    "application/vnd.databricks.v1+cell": {
     "cellMetadata": {},
     "inputWidgets": {},
     "nuid": "da225149-6073-45da-ba8d-18988e1e7d3a",
     "showTitle": false,
     "title": ""
    }
   },
   "outputs": [],
   "source": [
    "# Example 1: Direct Seattle to San Francisco\n",
    "# This method returns a DataFrame of valid shortest paths from vertices matching \"fromExpr\" to vertices matching \"toExpr\"\n",
    "filteredPaths = tripGraph.bfs(\"id = 'SEA'\",\"id ='SFO'\",maxPathLength=1)\n",
    "display(filteredPaths)"
   ]
  }
 ],
 "metadata": {
  "application/vnd.databricks.v1+notebook": {
   "dashboards": [],
   "language": "python",
   "notebookMetadata": {
    "pythonIndentUnit": 2
   },
   "notebookName": "flight_performance_analysis",
   "widgets": {}
  },
  "kernelspec": {
   "display_name": "Python 3 (ipykernel)",
   "language": "python",
   "name": "python3"
  },
  "language_info": {
   "codemirror_mode": {
    "name": "ipython",
    "version": 3
   },
   "file_extension": ".py",
   "mimetype": "text/x-python",
   "name": "python",
   "nbconvert_exporter": "python",
   "pygments_lexer": "ipython3",
   "version": "3.10.9"
  }
 },
 "nbformat": 4,
 "nbformat_minor": 4
}
